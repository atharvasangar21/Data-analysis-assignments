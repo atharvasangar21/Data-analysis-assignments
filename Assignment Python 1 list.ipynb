{
 "cells": [
  {
   "cell_type": "markdown",
   "id": "8f469311",
   "metadata": {},
   "source": [
    "1) Write a Python program which accepts a sequence of comma-separated numbers from user and generate a list and a tuple with those numbers.\n",
    "\n",
    "Sample data : 3, 5, 7, 23"
   ]
  },
  {
   "cell_type": "code",
   "execution_count": 1,
   "id": "8134b776",
   "metadata": {},
   "outputs": [
    {
     "name": "stdout",
     "output_type": "stream",
     "text": [
      "Enter a sequence of comma-separated numbers: 3,5,7,23\n",
      "List: [3, 5, 7, 23]\n",
      "Tuple: (3, 5, 7, 23)\n"
     ]
    }
   ],
   "source": [
    "# get input from user\n",
    "numbers = input(\"Enter a sequence of comma-separated numbers: \")\n",
    "\n",
    "# split the numbers into a list\n",
    "number_list = numbers.split(\",\")\n",
    "\n",
    "# convert the list of strings to a list of integers\n",
    "number_list = [int(x) for x in number_list]\n",
    "\n",
    "# create a tuple from the list\n",
    "number_tuple = tuple(number_list)\n",
    "\n",
    "# print the list and tuple\n",
    "print(\"List:\", number_list)\n",
    "print(\"Tuple:\", number_tuple)\n"
   ]
  },
  {
   "cell_type": "markdown",
   "id": "2493b259",
   "metadata": {},
   "source": [
    "2) Write a Python program to display the first and last colors from the following list.\n",
    "\n",
    "color_list = [\"Red\",\"Green\",\"White\" ,\"Black\""
   ]
  },
  {
   "cell_type": "code",
   "execution_count": 3,
   "id": "f5d1222e",
   "metadata": {},
   "outputs": [
    {
     "name": "stdout",
     "output_type": "stream",
     "text": [
      "First color: Red\n",
      "Last color: Black\n"
     ]
    }
   ],
   "source": [
    "#define the list of colors\n",
    "color_list = [\"Red\",\"Green\",\"White\" ,\"Black\"]\n",
    "\n",
    "#print the first and last colors\n",
    "print(\"First color:\", color_list[0])\n",
    "print(\"Last color:\", color_list[-1])\n"
   ]
  },
  {
   "cell_type": "markdown",
   "id": "31b4955f",
   "metadata": {},
   "source": [
    "3) Write a Python program to print the even numbers from a given list.\n",
    "\n",
    "Sample List : [1, 2, 3, 4, 5, 6, 7, 8, 9]"
   ]
  },
  {
   "cell_type": "code",
   "execution_count": 4,
   "id": "929f1831",
   "metadata": {},
   "outputs": [
    {
     "name": "stdout",
     "output_type": "stream",
     "text": [
      "2\n",
      "4\n",
      "6\n",
      "8\n"
     ]
    }
   ],
   "source": [
    "# define the list of numbers\n",
    "numbers = [1, 2, 3, 4, 5, 6, 7, 8, 9]\n",
    "\n",
    "# iterate over the list and print out the even numbers\n",
    "for number in numbers:\n",
    "    if number % 2 == 0:\n",
    "        print(number)\n"
   ]
  },
  {
   "cell_type": "code",
   "execution_count": null,
   "id": "f59a2477",
   "metadata": {},
   "outputs": [],
   "source": []
  }
 ],
 "metadata": {
  "kernelspec": {
   "display_name": "Python 3 (ipykernel)",
   "language": "python",
   "name": "python3"
  },
  "language_info": {
   "codemirror_mode": {
    "name": "ipython",
    "version": 3
   },
   "file_extension": ".py",
   "mimetype": "text/x-python",
   "name": "python",
   "nbconvert_exporter": "python",
   "pygments_lexer": "ipython3",
   "version": "3.9.12"
  }
 },
 "nbformat": 4,
 "nbformat_minor": 5
}
