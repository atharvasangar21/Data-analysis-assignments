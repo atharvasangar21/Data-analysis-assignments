{
 "cells": [
  {
   "cell_type": "markdown",
   "id": "b2d74c3a",
   "metadata": {},
   "source": [
    "# Module"
   ]
  },
  {
   "cell_type": "markdown",
   "id": "b11fdc72",
   "metadata": {},
   "source": [
    " 1) Write a Python program to calculate number of days between two dates. Hint: use Datetime package/module.\n",
    "\n",
    "Sample dates : (2014, 7, 2), (2014, 7, 11)"
   ]
  },
  {
   "cell_type": "code",
   "execution_count": 1,
   "id": "38579330",
   "metadata": {},
   "outputs": [
    {
     "name": "stdout",
     "output_type": "stream",
     "text": [
      "9\n"
     ]
    }
   ],
   "source": [
    "import datetime\n",
    "\n",
    "def days_between(date1, date2):\n",
    "  # Convert the dates to datetime objects\n",
    "  d1 = datetime.datetime(*date1)\n",
    "  d2 = datetime.datetime(*date2)\n",
    "\n",
    "  # Calculate the difference between the two dates and return the result\n",
    "  return abs((d2 - d1).days)\n",
    "\n",
    "# Example usage\n",
    "print(days_between((2014, 7, 2), (2014, 7, 11)))  \n"
   ]
  },
  {
   "cell_type": "code",
   "execution_count": null,
   "id": "deb58b99",
   "metadata": {},
   "outputs": [],
   "source": []
  },
  {
   "cell_type": "markdown",
   "id": "4b08bca8",
   "metadata": {},
   "source": [
    "# Functions"
   ]
  },
  {
   "cell_type": "markdown",
   "id": "70edd6cd",
   "metadata": {},
   "source": [
    "1) Write a Python program to get the volume of a sphere with radius 6."
   ]
  },
  {
   "cell_type": "code",
   "execution_count": 2,
   "id": "ef1e6194",
   "metadata": {},
   "outputs": [
    {
     "name": "stdout",
     "output_type": "stream",
     "text": [
      "The volume of a sphere with radius 6 is 904.78.\n"
     ]
    }
   ],
   "source": [
    "import math\n",
    "\n",
    "def get_volume(radius):\n",
    "  volume = (4/3) * math.pi * (radius ** 3)\n",
    "  return volume\n",
    "\n",
    "radius = 6\n",
    "volume = get_volume(radius)\n",
    "print(f\"The volume of a sphere with radius {radius} is {volume:.2f}.\")\n"
   ]
  },
  {
   "cell_type": "markdown",
   "id": "bfac01cd",
   "metadata": {},
   "source": [
    "2. Write a Python program to calculate the sum of three given numbers, if the values are equal then return three times of their sum hint: write User defined functions"
   ]
  },
  {
   "cell_type": "code",
   "execution_count": 3,
   "id": "394cff07",
   "metadata": {},
   "outputs": [
    {
     "name": "stdout",
     "output_type": "stream",
     "text": [
      "15\n",
      "27\n"
     ]
    }
   ],
   "source": [
    "def sum_and_triple(num1, num2, num3):\n",
    "  sum = num1 + num2 + num3\n",
    "  if num1 == num2 and num2 == num3:\n",
    "    return sum * 3\n",
    "  else:\n",
    "    return sum\n",
    "\n",
    "num1 = 4\n",
    "num2 = 5\n",
    "num3 = 6\n",
    "result = sum_and_triple(num1, num2, num3)\n",
    "print(result)\n",
    "\n",
    "num1 = 3\n",
    "num2 = 3\n",
    "num3 = 3\n",
    "result = sum_and_triple(num1, num2, num3)\n",
    "print(result)\n"
   ]
  },
  {
   "cell_type": "markdown",
   "id": "29935bb1",
   "metadata": {},
   "source": [
    "3. Write a Python program to count the number 4 in a given list.\n",
    "\n",
    "List = [1,4,6,8,4,9,4]"
   ]
  },
  {
   "cell_type": "code",
   "execution_count": 4,
   "id": "b152d233",
   "metadata": {},
   "outputs": [
    {
     "name": "stdout",
     "output_type": "stream",
     "text": [
      "The number 4 appears 3 times in the list.\n"
     ]
    }
   ],
   "source": [
    "def count_4(numbers):\n",
    "  count = 0\n",
    "  for number in numbers:\n",
    "    if number == 4:\n",
    "      count += 1\n",
    "  return count\n",
    "\n",
    "numbers = [1,4,6,8,4,9,4]\n",
    "count = count_4(numbers)\n",
    "print(f\"The number 4 appears {count} times in the list.\")\n"
   ]
  },
  {
   "cell_type": "markdown",
   "id": "11cdc3f1",
   "metadata": {},
   "source": [
    "4. Write a Python program to print all even numbers from a given numbers list in the same order and stop the printing if any numbers that come after 237 in the sequence. Go to the editorSample numbers list :\n",
    "\n",
    "399, 162, 758, 219, 918, 237, 412, 566, 826, 248, 866, 950, 626, 949, 687, 217,\n",
    "\n",
    "815, 67, 104, 58, 512, 24, 892, 894, 767, 553, 81, 379, 843, 831, 445, 742, 717,\n",
    "\n",
    "958,743, 527]"
   ]
  },
  {
   "cell_type": "code",
   "execution_count": 5,
   "id": "809cef25",
   "metadata": {},
   "outputs": [
    {
     "name": "stdout",
     "output_type": "stream",
     "text": [
      "162\n",
      "758\n",
      "918\n",
      "Stopping the printing because 237 is found.\n"
     ]
    }
   ],
   "source": [
    "numbers = [399, 162, 758, 219, 918, 237, 412, 566, 826, 248, 866, 950, 626, 949, 687, 217,\n",
    "           815, 67, 104, 58, 512, 24, 892, 894, 767, 553, 81, 379, 843, 831, 445, 742, 717,\n",
    "           958,743, 527]\n",
    "\n",
    "for number in numbers:\n",
    "  if number == 237:\n",
    "    print(\"Stopping the printing because 237 is found.\")\n",
    "    break\n",
    "  elif number % 2 == 0:\n",
    "    print(number)\n"
   ]
  },
  {
   "cell_type": "markdown",
   "id": "77b57fa0",
   "metadata": {},
   "source": [
    "5. Write a Python program to find those numbers which are divisible by 7 and multiple of 5, between 1500 and 2700 (both included)"
   ]
  },
  {
   "cell_type": "code",
   "execution_count": 6,
   "id": "272d1dec",
   "metadata": {},
   "outputs": [
    {
     "name": "stdout",
     "output_type": "stream",
     "text": [
      "[1505, 1540, 1575, 1610, 1645, 1680, 1715, 1750, 1785, 1820, 1855, 1890, 1925, 1960, 1995, 2030, 2065, 2100, 2135, 2170, 2205, 2240, 2275, 2310, 2345, 2380, 2415, 2450, 2485, 2520, 2555, 2590, 2625, 2660, 2695]\n"
     ]
    }
   ],
   "source": [
    "def find_numbers(start, end):\n",
    "  result = []\n",
    "  for number in range(start, end+1):\n",
    "    if number % 7 == 0 and number % 5 == 0:\n",
    "      result.append(number)\n",
    "  return result\n",
    "\n",
    "start = 1500\n",
    "end = 2700\n",
    "result = find_numbers(start, end)\n",
    "print(result)\n"
   ]
  },
  {
   "cell_type": "markdown",
   "id": "fff2a58c",
   "metadata": {},
   "source": [
    "6.Write a Python program that prints all the numbers from 0 to 6 except 3 and 6.\n",
    "\n",
    "Note : Use 'continue' statement."
   ]
  },
  {
   "cell_type": "code",
   "execution_count": 7,
   "id": "94df15f1",
   "metadata": {},
   "outputs": [
    {
     "name": "stdout",
     "output_type": "stream",
     "text": [
      "0\n",
      "1\n",
      "2\n",
      "4\n",
      "5\n"
     ]
    }
   ],
   "source": [
    "for number in range(0, 7):\n",
    "  if number == 3 or number == 6:\n",
    "    continue\n",
    "  print(number)\n"
   ]
  },
  {
   "cell_type": "markdown",
   "id": "1f87a9d8",
   "metadata": {},
   "source": [
    "7.Write a Python program to get the Fibonacci series between 0 to 50."
   ]
  },
  {
   "cell_type": "code",
   "execution_count": 8,
   "id": "ee0e3153",
   "metadata": {},
   "outputs": [
    {
     "name": "stdout",
     "output_type": "stream",
     "text": [
      "[0, 1, 1, 2, 3, 5, 8, 13, 21, 34]\n"
     ]
    }
   ],
   "source": [
    "def get_fibonacci_series(start, end):\n",
    "  result = []\n",
    "  a, b = 0, 1\n",
    "  while a <= end:\n",
    "    if a >= start:\n",
    "      result.append(a)\n",
    "    a, b = b, a+b\n",
    "  return result\n",
    "\n",
    "start = 0\n",
    "end = 50\n",
    "result = get_fibonacci_series(start, end)\n",
    "print(result)\n"
   ]
  },
  {
   "cell_type": "markdown",
   "id": "72bc7559",
   "metadata": {},
   "source": [
    "9. Write a Python function that takes a list and returns a new list with unique elements of the first list.\n",
    "\n",
    "Sample List : [1,2,3,3,3,3,4,5]\n",
    "\n",
    "Unique List : [1, 2, 3, 4, 5]"
   ]
  },
  {
   "cell_type": "code",
   "execution_count": 9,
   "id": "90b93f1f",
   "metadata": {},
   "outputs": [
    {
     "name": "stdout",
     "output_type": "stream",
     "text": [
      "[1, 2, 3, 4, 5]\n"
     ]
    }
   ],
   "source": [
    "def get_unique_list(numbers):\n",
    "  unique_numbers = []\n",
    "  for number in numbers:\n",
    "    if number not in unique_numbers:\n",
    "      unique_numbers.append(number)\n",
    "  return unique_numbers\n",
    "\n",
    "numbers = [1,2,3,3,3,3,4,5]\n",
    "unique_numbers = get_unique_list(numbers)\n",
    "print(unique_numbers)\n"
   ]
  },
  {
   "cell_type": "code",
   "execution_count": null,
   "id": "fb90ab0c",
   "metadata": {},
   "outputs": [],
   "source": []
  },
  {
   "cell_type": "markdown",
   "id": "4b49a6b7",
   "metadata": {},
   "source": [
    "# String"
   ]
  },
  {
   "cell_type": "markdown",
   "id": "7d34ca77",
   "metadata": {},
   "source": [
    " Write a Python program to concatenate all elements in a list into a string and return it."
   ]
  },
  {
   "cell_type": "code",
   "execution_count": 11,
   "id": "1799b5c4",
   "metadata": {},
   "outputs": [
    {
     "name": "stdout",
     "output_type": "stream",
     "text": [
      "12345\n"
     ]
    }
   ],
   "source": [
    "def concatenate_list_elements(list):\n",
    "  result = \"\"\n",
    "  for element in list:\n",
    "    result += str(element)\n",
    "  return result\n",
    "\n",
    "# Example usage\n",
    "list = [1, 2, 3, 4, 5]\n",
    "print(concatenate_list_elements(list))\n"
   ]
  },
  {
   "cell_type": "code",
   "execution_count": null,
   "id": "fb36022c",
   "metadata": {},
   "outputs": [],
   "source": []
  },
  {
   "cell_type": "markdown",
   "id": "8cef3685",
   "metadata": {},
   "source": [
    "# Dictionary"
   ]
  },
  {
   "cell_type": "markdown",
   "id": "c3d07dd2",
   "metadata": {},
   "source": [
    "Write a Python script to concatenate following dictionaries to create a new one.\n",
    "\n",
    "Sample Dictionary :\n",
    "\n",
    "dic1={1:10, 2:20}\n",
    "\n",
    "dic2={3:30, 4:40}\n",
    "\n",
    "dic3={5:50,6:60}"
   ]
  },
  {
   "cell_type": "code",
   "execution_count": 12,
   "id": "1ea38557",
   "metadata": {},
   "outputs": [
    {
     "name": "stdout",
     "output_type": "stream",
     "text": [
      "{1: 10, 2: 20, 3: 30, 4: 40, 5: 50, 6: 60}\n"
     ]
    }
   ],
   "source": [
    "# Initialize the dictionaries\n",
    "dic1 = {1: 10, 2: 20}\n",
    "dic2 = {3: 30, 4: 40}\n",
    "dic3 = {5: 50, 6: 60}\n",
    "\n",
    "# Concatenate the dictionaries\n",
    "new_dic = {}\n",
    "new_dic.update(dic1)\n",
    "new_dic.update(dic2)\n",
    "new_dic.update(dic3)\n",
    "\n",
    "# Print the new dictionary\n",
    "print(new_dic) \n"
   ]
  },
  {
   "cell_type": "code",
   "execution_count": null,
   "id": "a16c417e",
   "metadata": {},
   "outputs": [],
   "source": []
  },
  {
   "cell_type": "markdown",
   "id": "a13328f5",
   "metadata": {},
   "source": [
    "# Series"
   ]
  },
  {
   "cell_type": "markdown",
   "id": "c0946933",
   "metadata": {},
   "source": [
    "Write a Python program to add, subtract, multiple and divide two Pandas Series.\n",
    "\n",
    "Sample Series: [2, 4, 6, 8, 10], [1, 3, 5, 7, 9]"
   ]
  },
  {
   "cell_type": "code",
   "execution_count": 13,
   "id": "c7ec65b7",
   "metadata": {},
   "outputs": [
    {
     "name": "stdout",
     "output_type": "stream",
     "text": [
      "Addition:\n",
      "0     3\n",
      "1     7\n",
      "2    11\n",
      "3    15\n",
      "4    19\n",
      "dtype: int64\n",
      "Subtraction:\n",
      "0    1\n",
      "1    1\n",
      "2    1\n",
      "3    1\n",
      "4    1\n",
      "dtype: int64\n",
      "Multiplication:\n",
      "0     2\n",
      "1    12\n",
      "2    30\n",
      "3    56\n",
      "4    90\n",
      "dtype: int64\n",
      "Division:\n",
      "0    2.000000\n",
      "1    1.333333\n",
      "2    1.200000\n",
      "3    1.142857\n",
      "4    1.111111\n",
      "dtype: float64\n"
     ]
    }
   ],
   "source": [
    "import pandas as pd\n",
    "\n",
    "# Initialize the Series\n",
    "s1 = pd.Series([2, 4, 6, 8, 10])\n",
    "s2 = pd.Series([1, 3, 5, 7, 9])\n",
    "\n",
    "# Add the Series\n",
    "s3 = s1 + s2\n",
    "print(\"Addition:\")\n",
    "print(s3) \n",
    "\n",
    "# Subtract the Series\n",
    "s4 = s1 - s2\n",
    "print(\"Subtraction:\")\n",
    "print(s4) \n",
    "\n",
    "# Multiply the Series\n",
    "s5 = s1 * s2\n",
    "print(\"Multiplication:\")\n",
    "print(s5)  \n",
    "\n",
    "# Divide the Series\n",
    "s6 = s1 / s2\n",
    "print(\"Division:\")\n",
    "print(s6)  \n"
   ]
  },
  {
   "cell_type": "code",
   "execution_count": null,
   "id": "782849e2",
   "metadata": {},
   "outputs": [],
   "source": []
  },
  {
   "cell_type": "markdown",
   "id": "57e40440",
   "metadata": {},
   "source": [
    "# Data Frames"
   ]
  },
  {
   "cell_type": "markdown",
   "id": "f799d50e",
   "metadata": {},
   "source": [
    "Write a Pandas program to select the specified columns and rows from a given data frame. Go to the editorSample Python dictionary data and list labels:\n",
    "\n",
    "Select 'name' and 'score' columns in rows 1, 3, 5, 6 from the following data frame.\n",
    "\n",
    "exam_data = {'name': ['Anastasia', 'Dima', 'Katherine', 'James', 'Emily', 'Michael', 'Matthew', 'Laura', 'Kevin', 'Jonas'],\n",
    "\n",
    "score': [12.5, 9, 16.5, np.nan, 9, 20, 14.5, np.nan, 8, 19],\n",
    "\n",
    "attempts': [1, 3, 2, 3, 2, 3, 1, 1, 2, 1],\n",
    "\n",
    "qualify': ['yes', 'no', 'yes', 'no', 'no', 'yes', 'yes', 'no', 'no', 'yes']}\n",
    "\n",
    "labels = ['a', 'b', 'c', 'd', 'e', 'f', 'g', 'h', 'i', 'j']"
   ]
  },
  {
   "cell_type": "code",
   "execution_count": 14,
   "id": "3b93aa4c",
   "metadata": {},
   "outputs": [
    {
     "name": "stdout",
     "output_type": "stream",
     "text": [
      "      name  score\n",
      "b     Dima    9.0\n",
      "d    James    NaN\n",
      "f  Michael   20.0\n",
      "g  Matthew   14.5\n"
     ]
    }
   ],
   "source": [
    "import pandas as pd\n",
    "import numpy as np\n",
    "\n",
    "# Create the data frame\n",
    "exam_data = {'name': ['Anastasia', 'Dima', 'Katherine', 'James', 'Emily', 'Michael', 'Matthew', 'Laura', 'Kevin', 'Jonas'],\n",
    "             'score': [12.5, 9, 16.5, np.nan, 9, 20, 14.5, np.nan, 8, 19],\n",
    "             'attempts': [1, 3, 2, 3, 2, 3, 1, 1, 2, 1],\n",
    "             'qualify': ['yes', 'no', 'yes', 'no', 'no', 'yes', 'yes', 'no', 'no', 'yes']}\n",
    "labels = ['a', 'b', 'c', 'd', 'e', 'f', 'g', 'h', 'i', 'j']\n",
    "df = pd.DataFrame(exam_data, index=labels)\n",
    "\n",
    "# Select the specified columns and rows\n",
    "df_subset = df[['name', 'score']].loc[['b', 'd', 'f', 'g']]\n",
    "\n",
    "# Print the resulting data frame\n",
    "print(df_subset)\n"
   ]
  },
  {
   "cell_type": "code",
   "execution_count": null,
   "id": "b2511645",
   "metadata": {},
   "outputs": [],
   "source": []
  },
  {
   "cell_type": "markdown",
   "id": "56e01427",
   "metadata": {},
   "source": [
    "# Basic Programs"
   ]
  },
  {
   "cell_type": "markdown",
   "id": "b6ac1756",
   "metadata": {},
   "source": [
    " 1. Write Python Programs to use various operators in Python"
   ]
  },
  {
   "cell_type": "code",
   "execution_count": 16,
   "id": "9092a3af",
   "metadata": {},
   "outputs": [
    {
     "name": "stdout",
     "output_type": "stream",
     "text": [
      "5\n",
      "2\n",
      "6\n",
      "2.0\n",
      "1\n",
      "8\n",
      "2\n"
     ]
    }
   ],
   "source": [
    "# Addition\n",
    "print(2 + 3)  # Output: 5\n",
    "\n",
    "# Subtraction\n",
    "print(5 - 3)  # Output: 2\n",
    "\n",
    "# Multiplication\n",
    "print(2 * 3)  # Output: 6\n",
    "\n",
    "# Division\n",
    "print(6 / 3)  # Output: 2.0\n",
    "\n",
    "# Modulus (remainder)\n",
    "print(7 % 3)  # Output: 1\n",
    "\n",
    "# Exponentiation\n",
    "print(2 ** 3)  # Output: 8\n",
    "\n",
    "# Floor division\n",
    "print(7 // 3)  # Output: 2\n"
   ]
  },
  {
   "cell_type": "markdown",
   "id": "9ed997b1",
   "metadata": {},
   "source": [
    " 2. Create list of elements and slice and dice it\n"
   ]
  },
  {
   "cell_type": "code",
   "execution_count": 17,
   "id": "86d6017d",
   "metadata": {},
   "outputs": [
    {
     "name": "stdout",
     "output_type": "stream",
     "text": [
      "0\n",
      "9\n",
      "[1, 2, 3, 4]\n",
      "[0, 2, 4, 6, 8]\n",
      "[9, 8, 7, 6, 5, 4, 3, 2, 1, 0]\n"
     ]
    }
   ],
   "source": [
    "# Create a list of elements\n",
    "my_list = [0, 1, 2, 3, 4, 5, 6, 7, 8, 9]\n",
    "\n",
    "# Access the first element of the list\n",
    "print(my_list[0]) \n",
    "\n",
    "# Access the last element of the list\n",
    "print(my_list[-1])  \n",
    "\n",
    "# Access the second to fifth elements of the list (slicing)\n",
    "print(my_list[1:5]) \n",
    "\n",
    "# Access every second element of the list (slicing with step)\n",
    "print(my_list[::2]) \n",
    "\n",
    "# Reverse the list (slicing with negative step)\n",
    "print(my_list[::-1]) \n"
   ]
  },
  {
   "cell_type": "markdown",
   "id": "86d42616",
   "metadata": {},
   "source": [
    "3. Using while loop accept numbers until sum of numbers is less than 100\n"
   ]
  },
  {
   "cell_type": "code",
   "execution_count": 21,
   "id": "e48692a5",
   "metadata": {},
   "outputs": [
    {
     "name": "stdout",
     "output_type": "stream",
     "text": [
      "Enter a number: 25\n",
      "Enter a number: 25\n",
      "Enter a number: 25\n",
      "Enter a number: 25\n",
      "Numbers: [25, 25, 25, 25]\n",
      "Sum: 100\n"
     ]
    }
   ],
   "source": [
    "# Initialize the sum and the list of numbers\n",
    "sum = 0\n",
    "numbers = []\n",
    "\n",
    "# Continuously accept numbers until the sum is less than 100\n",
    "while sum < 100:\n",
    "  # Read a number from the user\n",
    "  number = int(input(\"Enter a number: \"))\n",
    "  \n",
    "  # Add the number to the sum and the list of numbers\n",
    "  sum += number\n",
    "  numbers.append(number)\n",
    "\n",
    "# Print the list of numbers\n",
    "print(\"Numbers:\", numbers)\n",
    "\n",
    "# Print the sum of the numbers\n",
    "print(\"Sum:\", sum)\n"
   ]
  },
  {
   "cell_type": "markdown",
   "id": "d4ffd9e1",
   "metadata": {},
   "source": [
    "4. Write a python program Read & write Excel files"
   ]
  },
  {
   "cell_type": "code",
   "execution_count": 23,
   "id": "66543f3b",
   "metadata": {},
   "outputs": [],
   "source": [
    "#import pandas as pd\n",
    "\n",
    "# Read an Excel file\n",
    "#df = pd.read_excel(\"input.xlsx\")\n",
    "\n",
    "# Print the data frame\n",
    "#print(df)\n",
    "\n",
    "# Write the data frame to an Excel file\n",
    "#df.to_excel(\"output.xlsx\", index=False)\n"
   ]
  },
  {
   "cell_type": "markdown",
   "id": "cb25c851",
   "metadata": {},
   "source": [
    "5.  Write a python program to scrape reviews from a commercial web site"
   ]
  },
  {
   "cell_type": "code",
   "execution_count": 24,
   "id": "0895d35e",
   "metadata": {},
   "outputs": [],
   "source": [
    "#import requests\n",
    "#from bs4 import BeautifulSoup\n",
    "\n",
    "# Make an HTTP request to the web page\n",
    "#response = requests.get(\"https://www.example.com/reviews\")\n",
    "\n",
    "# Parse the HTML content\n"
   ]
  },
  {
   "cell_type": "markdown",
   "id": "1804e9ae",
   "metadata": {},
   "source": [
    "6. Create a 3x3 matrix with values ranging from 2 to 10 using numpy"
   ]
  },
  {
   "cell_type": "code",
   "execution_count": 25,
   "id": "52ee87f2",
   "metadata": {},
   "outputs": [
    {
     "name": "stdout",
     "output_type": "stream",
     "text": [
      "[[ 2  3  4]\n",
      " [ 5  6  7]\n",
      " [ 8  9 10]]\n"
     ]
    }
   ],
   "source": [
    "import numpy as np\n",
    "\n",
    "# Create a 1-dimensional array with values ranging from 2 to 10\n",
    "array = np.arange(2, 11)\n",
    "\n",
    "# Reshape the array into a 3x3 matrix\n",
    "matrix = np.reshape(array, (3, 3))\n",
    "\n",
    "# Print the matrix\n",
    "print(matrix)\n"
   ]
  },
  {
   "cell_type": "markdown",
   "id": "bb621179",
   "metadata": {},
   "source": [
    "7. Write a Python program to convert a list of numeric value into a one-dimensional NumPy array"
   ]
  },
  {
   "cell_type": "code",
   "execution_count": 26,
   "id": "0dafa67d",
   "metadata": {},
   "outputs": [
    {
     "name": "stdout",
     "output_type": "stream",
     "text": [
      "[1 2 3 4 5]\n"
     ]
    }
   ],
   "source": [
    "import numpy as np\n",
    "\n",
    "# Create a list of numeric values\n",
    "my_list = [1, 2, 3, 4, 5]\n",
    "\n",
    "# Convert the list into a NumPy array\n",
    "my_array = np.array(my_list)\n",
    "\n",
    "# Print the array\n",
    "print(my_array)\n"
   ]
  },
  {
   "cell_type": "markdown",
   "id": "668cf982",
   "metadata": {},
   "source": [
    "8. Write a Python program to create a null vector of size 10 and update sixth value to 11."
   ]
  },
  {
   "cell_type": "code",
   "execution_count": 27,
   "id": "8668382e",
   "metadata": {},
   "outputs": [
    {
     "name": "stdout",
     "output_type": "stream",
     "text": [
      "[0. 0. 0. 0. 0. 0. 0. 0. 0. 0.]\n",
      "[ 0.  0.  0.  0.  0. 11.  0.  0.  0.  0.]\n"
     ]
    }
   ],
   "source": [
    "import numpy as np\n",
    "\n",
    "# Create a null vector of size 10\n",
    "vector = np.zeros(10)\n",
    "\n",
    "# Print the vector\n",
    "print(vector)\n",
    "\n",
    "# Update the sixth element of the vector to 11\n",
    "np.put(vector, 5, 11)\n",
    "\n",
    "# Print the updated vector\n",
    "print(vector)\n"
   ]
  },
  {
   "cell_type": "code",
   "execution_count": null,
   "id": "9b8a13a5",
   "metadata": {},
   "outputs": [],
   "source": []
  }
 ],
 "metadata": {
  "kernelspec": {
   "display_name": "Python 3 (ipykernel)",
   "language": "python",
   "name": "python3"
  },
  "language_info": {
   "codemirror_mode": {
    "name": "ipython",
    "version": 3
   },
   "file_extension": ".py",
   "mimetype": "text/x-python",
   "name": "python",
   "nbconvert_exporter": "python",
   "pygments_lexer": "ipython3",
   "version": "3.9.12"
  }
 },
 "nbformat": 4,
 "nbformat_minor": 5
}
